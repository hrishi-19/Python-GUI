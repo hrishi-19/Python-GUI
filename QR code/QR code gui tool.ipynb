{
 "cells": [
  {
   "cell_type": "code",
   "execution_count": 1,
   "id": "bc884ac4",
   "metadata": {},
   "outputs": [],
   "source": [
    "from tkinter import *\n",
    "import os\n",
    "import pyqrcode"
   ]
  },
  {
   "cell_type": "code",
   "execution_count": 2,
   "id": "6cf99729",
   "metadata": {},
   "outputs": [
    {
     "data": {
      "text/plain": [
       "''"
      ]
     },
     "execution_count": 2,
     "metadata": {},
     "output_type": "execute_result"
    }
   ],
   "source": [
    "root = Tk()\n",
    "root.title(\"QR Code Generator\")"
   ]
  },
  {
   "cell_type": "code",
   "execution_count": 3,
   "id": "335d9079",
   "metadata": {},
   "outputs": [],
   "source": [
    "def generate():\n",
    "    if len(Subject.get())!=0 :\n",
    "        global qr,photo\n",
    "        qr = pyqrcode.create(Subject.get())\n",
    "        photo = BitmapImage(data = qr.xbm(scale=8))\n",
    "    else:\n",
    "        messagebox.showinfo(\"Please Enter some Subject\")\n",
    "    try:\n",
    "        showcode()\n",
    "    except:\n",
    "        pass"
   ]
  },
  {
   "cell_type": "code",
   "execution_count": 4,
   "id": "2f0a6c61",
   "metadata": {},
   "outputs": [],
   "source": [
    "def showcode():\n",
    "    imageLabel.config(image = photo)\n",
    "    subLabel.config(text=\"QR of \" + Subject.get())\n"
   ]
  },
  {
   "cell_type": "code",
   "execution_count": 5,
   "id": "189a0f2c",
   "metadata": {},
   "outputs": [],
   "source": [
    "Sub = Label(root,text=\"Enter subject\")\n",
    "Sub.grid(row =0,column =0,sticky=N+S+W+E)\n",
    "\n",
    "Subject = StringVar()\n",
    "SubEntry = Entry(root,textvariable = Subject)\n",
    "SubEntry.grid(row =0,column =1)\n",
    "\n",
    "button = Button(root,text = \"Generate\",width=15,command = generate)\n",
    "button.grid(row =0,column =3)\n",
    "\n",
    "imageLabel = Label(root)\n",
    "imageLabel.grid(row =2,column =1)\n",
    "\n",
    "subLabel = Label(root,text=\"\")\n",
    "subLabel.grid(row =3,column =1)\n",
    "\n",
    "\n"
   ]
  },
  {
   "cell_type": "code",
   "execution_count": 6,
   "id": "c84ae461",
   "metadata": {},
   "outputs": [],
   "source": [
    "root.mainloop()"
   ]
  },
  {
   "cell_type": "code",
   "execution_count": null,
   "id": "ceccac02",
   "metadata": {},
   "outputs": [],
   "source": []
  }
 ],
 "metadata": {
  "kernelspec": {
   "display_name": "Python 3",
   "language": "python",
   "name": "python3"
  },
  "language_info": {
   "codemirror_mode": {
    "name": "ipython",
    "version": 3
   },
   "file_extension": ".py",
   "mimetype": "text/x-python",
   "name": "python",
   "nbconvert_exporter": "python",
   "pygments_lexer": "ipython3",
   "version": "3.8.8"
  }
 },
 "nbformat": 4,
 "nbformat_minor": 5
}
