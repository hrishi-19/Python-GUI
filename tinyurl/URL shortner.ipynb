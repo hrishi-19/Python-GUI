{
 "cells": [
  {
   "cell_type": "markdown",
   "id": "30b8ba22",
   "metadata": {},
   "source": [
    "# import"
   ]
  },
  {
   "cell_type": "code",
   "execution_count": 1,
   "id": "2429d323",
   "metadata": {},
   "outputs": [],
   "source": [
    "from tkinter import *\n",
    "from pyshorteners import *"
   ]
  },
  {
   "cell_type": "code",
   "execution_count": 2,
   "id": "8cf70cb5",
   "metadata": {},
   "outputs": [],
   "source": [
    "root=Tk()\n",
    "root.title(\"URL shortener\")\n",
    "def create():\n",
    "    url=Shortener()\n",
    "    long_url=long.get()\n",
    "    short_url=url.tinyurl.short(long_url)\n",
    "    shrt.insert(0,short_url)\n",
    "def delte():\n",
    "    long.delete(0,END)\n",
    "    shrt.delete(0,END)\n",
    "    "
   ]
  },
  {
   "cell_type": "code",
   "execution_count": 3,
   "id": "1a1728ea",
   "metadata": {},
   "outputs": [],
   "source": [
    "label=Label(root,text=\"URL shortener\",font=(\"Helvitica\",17,\"bold\"),padx=10,pady=10)\n",
    "label1=Label(root,text=\"enter your url here\",font=(\"Helvitica\",11,\"bold\"))\n",
    "long=Entry(root)\n",
    "shrt=Entry(root)\n",
    "button=Button(root,text=\"Generate\",command=create)\n",
    "clear=Button(root,text=\"clear\",command=delte)"
   ]
  },
  {
   "cell_type": "code",
   "execution_count": 4,
   "id": "8aebd325",
   "metadata": {},
   "outputs": [],
   "source": [
    "label.grid(row=0,column=0,columnspan=2)\n",
    "label1.grid(row=1,column=0)\n",
    "long.grid(row=2,column=1,ipadx=35,ipady=10)\n",
    "shrt.grid(row=3,column=1,ipadx=35,ipady=10)\n",
    "button.grid(row=4,column=0,ipadx=20,columnspan=2)\n",
    "clear.grid(row=5,column=0,ipadx=20,columnspan=2)"
   ]
  },
  {
   "cell_type": "code",
   "execution_count": null,
   "id": "ff2a01b4",
   "metadata": {},
   "outputs": [
    {
     "name": "stderr",
     "output_type": "stream",
     "text": [
      "Exception in Tkinter callback\n",
      "Traceback (most recent call last):\n",
      "  File \"C:\\Users\\hp\\anaconda3\\lib\\site-packages\\urllib3\\connectionpool.py\", line 445, in _make_request\n",
      "    six.raise_from(e, None)\n",
      "  File \"<string>\", line 3, in raise_from\n",
      "  File \"C:\\Users\\hp\\anaconda3\\lib\\site-packages\\urllib3\\connectionpool.py\", line 440, in _make_request\n",
      "    httplib_response = conn.getresponse()\n",
      "  File \"C:\\Users\\hp\\anaconda3\\lib\\http\\client.py\", line 1347, in getresponse\n",
      "    response.begin()\n",
      "  File \"C:\\Users\\hp\\anaconda3\\lib\\http\\client.py\", line 307, in begin\n",
      "    version, status, reason = self._read_status()\n",
      "  File \"C:\\Users\\hp\\anaconda3\\lib\\http\\client.py\", line 268, in _read_status\n",
      "    line = str(self.fp.readline(_MAXLINE + 1), \"iso-8859-1\")\n",
      "  File \"C:\\Users\\hp\\anaconda3\\lib\\socket.py\", line 669, in readinto\n",
      "    return self._sock.recv_into(b)\n",
      "socket.timeout: timed out\n",
      "\n",
      "During handling of the above exception, another exception occurred:\n",
      "\n",
      "Traceback (most recent call last):\n",
      "  File \"C:\\Users\\hp\\anaconda3\\lib\\site-packages\\requests\\adapters.py\", line 439, in send\n",
      "    resp = conn.urlopen(\n",
      "  File \"C:\\Users\\hp\\anaconda3\\lib\\site-packages\\urllib3\\connectionpool.py\", line 755, in urlopen\n",
      "    retries = retries.increment(\n",
      "  File \"C:\\Users\\hp\\anaconda3\\lib\\site-packages\\urllib3\\util\\retry.py\", line 532, in increment\n",
      "    raise six.reraise(type(error), error, _stacktrace)\n",
      "  File \"C:\\Users\\hp\\anaconda3\\lib\\site-packages\\urllib3\\packages\\six.py\", line 735, in reraise\n",
      "    raise value\n",
      "  File \"C:\\Users\\hp\\anaconda3\\lib\\site-packages\\urllib3\\connectionpool.py\", line 699, in urlopen\n",
      "    httplib_response = self._make_request(\n",
      "  File \"C:\\Users\\hp\\anaconda3\\lib\\site-packages\\urllib3\\connectionpool.py\", line 447, in _make_request\n",
      "    self._raise_timeout(err=e, url=url, timeout_value=read_timeout)\n",
      "  File \"C:\\Users\\hp\\anaconda3\\lib\\site-packages\\urllib3\\connectionpool.py\", line 336, in _raise_timeout\n",
      "    raise ReadTimeoutError(\n",
      "urllib3.exceptions.ReadTimeoutError: HTTPConnectionPool(host='tinyurl.com', port=80): Read timed out. (read timeout=2)\n",
      "\n",
      "During handling of the above exception, another exception occurred:\n",
      "\n",
      "Traceback (most recent call last):\n",
      "  File \"C:\\Users\\hp\\anaconda3\\lib\\tkinter\\__init__.py\", line 1892, in __call__\n",
      "    return self.func(*args)\n",
      "  File \"<ipython-input-2-04c27b4957a2>\", line 6, in create\n",
      "    short_url=url.tinyurl.short(long_url)\n",
      "  File \"C:\\Users\\hp\\anaconda3\\lib\\site-packages\\pyshorteners\\shorteners\\tinyurl.py\", line 34, in short\n",
      "    response = self._get(self.api_url, params=dict(url=url))\n",
      "  File \"C:\\Users\\hp\\anaconda3\\lib\\site-packages\\pyshorteners\\base.py\", line 63, in _get\n",
      "    response = requests.get(\n",
      "  File \"C:\\Users\\hp\\anaconda3\\lib\\site-packages\\requests\\api.py\", line 76, in get\n",
      "    return request('get', url, params=params, **kwargs)\n",
      "  File \"C:\\Users\\hp\\anaconda3\\lib\\site-packages\\requests\\api.py\", line 61, in request\n",
      "    return session.request(method=method, url=url, **kwargs)\n",
      "  File \"C:\\Users\\hp\\anaconda3\\lib\\site-packages\\requests\\sessions.py\", line 542, in request\n",
      "    resp = self.send(prep, **send_kwargs)\n",
      "  File \"C:\\Users\\hp\\anaconda3\\lib\\site-packages\\requests\\sessions.py\", line 655, in send\n",
      "    r = adapter.send(request, **kwargs)\n",
      "  File \"C:\\Users\\hp\\anaconda3\\lib\\site-packages\\requests\\adapters.py\", line 529, in send\n",
      "    raise ReadTimeout(e, request=request)\n",
      "requests.exceptions.ReadTimeout: HTTPConnectionPool(host='tinyurl.com', port=80): Read timed out. (read timeout=2)\n"
     ]
    }
   ],
   "source": [
    "root.mainloop()"
   ]
  },
  {
   "cell_type": "code",
   "execution_count": null,
   "id": "4377cb83",
   "metadata": {},
   "outputs": [],
   "source": []
  }
 ],
 "metadata": {
  "kernelspec": {
   "display_name": "Python 3",
   "language": "python",
   "name": "python3"
  },
  "language_info": {
   "codemirror_mode": {
    "name": "ipython",
    "version": 3
   },
   "file_extension": ".py",
   "mimetype": "text/x-python",
   "name": "python",
   "nbconvert_exporter": "python",
   "pygments_lexer": "ipython3",
   "version": "3.8.8"
  }
 },
 "nbformat": 4,
 "nbformat_minor": 5
}
