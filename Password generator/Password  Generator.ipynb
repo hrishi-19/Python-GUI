{
 "cells": [
  {
   "cell_type": "code",
   "execution_count": 1,
   "id": "13d8c27b",
   "metadata": {},
   "outputs": [],
   "source": [
    "from password_generator import PasswordGenerator"
   ]
  },
  {
   "cell_type": "code",
   "execution_count": 2,
   "id": "3e8c911b",
   "metadata": {},
   "outputs": [],
   "source": [
    "password=PasswordGenerator()\n",
    "password.minlen=10\n",
    "password.maxlen=20\n",
    "password.minuchars=6"
   ]
  },
  {
   "cell_type": "code",
   "execution_count": 3,
   "id": "1e13073a",
   "metadata": {},
   "outputs": [],
   "source": [
    "def create():\n",
    "    result=password.generate()\n",
    "    pasword.insert(0,result)\n",
    "def delte():\n",
    "    pasword.delete(0,END)\n"
   ]
  },
  {
   "cell_type": "code",
   "execution_count": 4,
   "id": "b30c590d",
   "metadata": {},
   "outputs": [],
   "source": [
    "from tkinter import *"
   ]
  },
  {
   "cell_type": "code",
   "execution_count": 5,
   "id": "3f72519f",
   "metadata": {},
   "outputs": [
    {
     "data": {
      "text/plain": [
       "''"
      ]
     },
     "execution_count": 5,
     "metadata": {},
     "output_type": "execute_result"
    }
   ],
   "source": [
    "root=Tk()\n",
    "root.title(\"Password generator\")"
   ]
  },
  {
   "cell_type": "code",
   "execution_count": 6,
   "id": "0dc58a9e",
   "metadata": {},
   "outputs": [],
   "source": [
    "label=Label(root,text=\"passowrd generator\",font=(\"Helvitica\",17,\"bold\"))\n",
    "pasword=Entry(root)\n",
    "button=Button(root,text=\"Generate\",command=create)\n",
    "clear=Button(root,text=\"clear\",command=delte)"
   ]
  },
  {
   "cell_type": "code",
   "execution_count": 7,
   "id": "947df3e7",
   "metadata": {},
   "outputs": [],
   "source": [
    "label.grid(row=0,column=1)\n",
    "pasword.grid(row=1,column=0)\n",
    "button.grid(row=2,column=0)\n",
    "clear.grid(row=2,column=1)"
   ]
  },
  {
   "cell_type": "code",
   "execution_count": 8,
   "id": "e48e719d",
   "metadata": {},
   "outputs": [],
   "source": [
    "root.mainloop()"
   ]
  },
  {
   "cell_type": "code",
   "execution_count": null,
   "id": "3e315f7c",
   "metadata": {},
   "outputs": [],
   "source": []
  }
 ],
 "metadata": {
  "kernelspec": {
   "display_name": "Python 3",
   "language": "python",
   "name": "python3"
  },
  "language_info": {
   "codemirror_mode": {
    "name": "ipython",
    "version": 3
   },
   "file_extension": ".py",
   "mimetype": "text/x-python",
   "name": "python",
   "nbconvert_exporter": "python",
   "pygments_lexer": "ipython3",
   "version": "3.8.8"
  }
 },
 "nbformat": 4,
 "nbformat_minor": 5
}
